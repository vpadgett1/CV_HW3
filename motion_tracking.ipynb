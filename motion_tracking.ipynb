{
 "cells": [
  {
   "cell_type": "code",
   "execution_count": 1,
   "metadata": {},
   "outputs": [],
   "source": [
    "import cv2 as cv\n",
    "import os\n"
   ]
  },
  {
   "cell_type": "code",
   "execution_count": null,
   "metadata": {},
   "outputs": [],
   "source": []
  },
  {
   "cell_type": "code",
   "execution_count": null,
   "metadata": {},
   "outputs": [],
   "source": [
    "capture = cv.VideoCapture(\"IMG_2607.MOV\")\n",
    "\n",
    "while capture.isOpened():\n",
    "    # to read frame by frame\n",
    "    _, img_1 = capture.read()\n",
    "    _, img_2 = capture.read()\n",
    "\n",
    "    # find difference between two frames\n",
    "    diff = cv.absdiff(img_1, img_2)\n",
    "\n",
    "    # to convrt the frame to grayscale\n",
    "    diff_gray = cv.cvtColor(diff, cv2.COLOR_BGR2GRAY)\n",
    "\n",
    "    # apply some blur to smoothen the frame\n",
    "    diff_blur = cv.GaussianBlur(diff_gray, (5, 5), 0)\n",
    "\n",
    "    # to get the binary image\n",
    "    _, thresh_bin = cv.threshold(diff_blur, 20, 255, cv2.THRESH_BINARY)\n",
    "\n",
    "    # to find contours\n",
    "    contours, hierarchy = cv.findContours(thresh_bin, cv2.RETR_TREE, cv2.CHAIN_APPROX_SIMPLE)\n",
    "\n",
    "    # to draw the bounding box when the motion is detected\n",
    "    for contour in contours:\n",
    "        x, y, w, h = cv.boundingRect(contour)\n",
    "        if cv.contourArea(contour) > 300:\n",
    "            cv.rectangle(img_1, (x, y), (x+w, y+h), (0, 255, 0), 2)\n",
    "    # cv2.drawContours(img_1, contours, -1, (0, 255, 0), 2)\n",
    "\n",
    "    # display the output\n",
    "    cv.imshow(\"Detecting Motion...\", img_1)\n",
    "    if cv.waitKey(100) == 13:\n",
    "        exit()"
   ]
  },
  {
   "cell_type": "code",
   "execution_count": 2,
   "metadata": {},
   "outputs": [
    {
     "ename": "FileNotFoundError",
     "evalue": "[WinError 3] The system cannot find the path specified: 'frames'",
     "output_type": "error",
     "traceback": [
      "\u001b[1;31m---------------------------------------------------------------------------\u001b[0m",
      "\u001b[1;31mFileNotFoundError\u001b[0m                         Traceback (most recent call last)",
      "\u001b[1;32mc:\\Users\\torip\\assign3\\motion_tracking.ipynb Cell 2\u001b[0m in \u001b[0;36m<cell line: 1>\u001b[1;34m()\u001b[0m\n\u001b[1;32m----> <a href='vscode-notebook-cell:/c%3A/Users/torip/assign3/motion_tracking.ipynb#W1sZmlsZQ%3D%3D?line=0'>1</a>\u001b[0m \u001b[39mfor\u001b[39;00m frame \u001b[39min\u001b[39;00m os\u001b[39m.\u001b[39;49mlistdir(\u001b[39m\"\u001b[39;49m\u001b[39mframes\u001b[39;49m\u001b[39m\"\u001b[39;49m):\n\u001b[0;32m      <a href='vscode-notebook-cell:/c%3A/Users/torip/assign3/motion_tracking.ipynb#W1sZmlsZQ%3D%3D?line=1'>2</a>\u001b[0m     frame \u001b[39m=\u001b[39m cv\u001b[39m.\u001b[39mimread(\u001b[39m\"\u001b[39m\u001b[39mframes/\u001b[39m\u001b[39m\"\u001b[39m \u001b[39m+\u001b[39m frame)\n\u001b[0;32m      <a href='vscode-notebook-cell:/c%3A/Users/torip/assign3/motion_tracking.ipynb#W1sZmlsZQ%3D%3D?line=2'>3</a>\u001b[0m     cv\u001b[39m.\u001b[39mimshow(\u001b[39m\"\u001b[39m\u001b[39mFrame\u001b[39m\u001b[39m\"\u001b[39m, frame)\n",
      "\u001b[1;31mFileNotFoundError\u001b[0m: [WinError 3] The system cannot find the path specified: 'frames'"
     ]
    }
   ],
   "source": [
    "for frame in os.listdir(\"images\"):\n",
    "    img = cv.imread(\"frames/\" + frame + \".jpg\")\n",
    "    img_2 = cv.imread(\"frames/\" + frame+1 + \".jpg\")\n",
    "    # Convert to grayscale\n",
    "    gray = cv.cvtColor(img, cv.COLOR_BGR2GRAY)\n",
    "    gray_2 = cv.cvtColor(img_2, cv.COLOR_BGR2GRAY)\n",
    "    #Find the difference between the two images\n",
    "    diff = cv.absdiff(gray, gray_2)\n",
    "    #blur the image\n",
    "    diff_blur = cv.GaussianBlur(diff, (5,5), 0)\n",
    "    #threshold the image\n",
    "    _, thresh = cv.threshold(diff_blur, 20, 255, cv.THRESH_BINARY)\n",
    "    "
   ]
  },
  {
   "cell_type": "code",
   "execution_count": null,
   "metadata": {},
   "outputs": [],
   "source": []
  }
 ],
 "metadata": {
  "kernelspec": {
   "display_name": "Python 3.9.12 ('base')",
   "language": "python",
   "name": "python3"
  },
  "language_info": {
   "codemirror_mode": {
    "name": "ipython",
    "version": 3
   },
   "file_extension": ".py",
   "mimetype": "text/x-python",
   "name": "python",
   "nbconvert_exporter": "python",
   "pygments_lexer": "ipython3",
   "version": "3.9.12"
  },
  "orig_nbformat": 4,
  "vscode": {
   "interpreter": {
    "hash": "7281080ee6fc425e6f98dec69755e44604bddc2a93c752be7503405a79136eb1"
   }
  }
 },
 "nbformat": 4,
 "nbformat_minor": 2
}
