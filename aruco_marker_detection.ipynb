{
 "cells": [
  {
   "cell_type": "code",
   "execution_count": 2,
   "metadata": {},
   "outputs": [],
   "source": [
    "import cv2 as cv\n",
    "import cv2.aruco as aruco\n",
    "import numpy as np\n",
    "import os\n",
    "import  depthai as dai"
   ]
  },
  {
   "cell_type": "code",
   "execution_count": 24,
   "metadata": {},
   "outputs": [],
   "source": [
    "def getFrame(queue):\n",
    "    #Get frame from the queue\n",
    "    frame = queue.get()\n",
    "    #convert the frmae to OpenCV format and return\n",
    "    return frame.getCvFrame()\n",
    "\n",
    "def getMonoCamera(pipeline, isLeft):\n",
    "    #configure mono camera\n",
    "    mono = pipeline.createMonoCamera()\n",
    "\n",
    " #set the Camera Resolution\n",
    "    mono.setResolution(dai.MonoCameraProperties.SensorResolution.THE_720_P)\n",
    "    if isLeft:\n",
    "        mono.setBoardSocket(dai.CameraBoardSocket.LEFT)\n",
    "    else:\n",
    "        mono.setBoardSocket(dai.CameraBoardSocket.RIGHT)\n",
    "    return mono\n",
    "\n",
    "if __name__ == '__main__':\n",
    "\n",
    "    #define a pipeline\n",
    "    pipeline = dai.Pipeline()\n",
    "\n",
    "    #set up left and right cameras\n",
    "    monoLeft = getMonoCamera(pipeline, isLeft = True)\n",
    "    monoRight = getMonoCamera(pipeline, isLeft = False)\n",
    "\n",
    "    #set output Xlink for left camera\n",
    "    xoutLeft = pipeline.createXLinkOut()\n",
    "    xoutLeft.setStreamName(\"left\")\n",
    "\n",
    "    #set output Xlink for right camera\n",
    "    xoutRight = pipeline.createXLinkOut()\n",
    "    xoutRight.setStreamName(\"right\")\n",
    "\n",
    "    #Attach cameras to output XLink \n",
    "    monoLeft.out.link(xoutLeft.input)\n",
    "    monoRight.out.link(xoutRight.input)\n",
    "\n",
    "    #pipeline is defined, now we can connect to the device\n",
    "    with dai.Device(pipeline) as device:\n",
    "\n",
    "        #get the output queues.\n",
    "        leftQueue = device.getOutputQueue(name = 'left', maxSize=1)\n",
    "        rightQueue = device.getOutputQueue(name = 'right', maxSize = 1)\n",
    "        count=0\n",
    "        while True:\n",
    "            #get left Frame\n",
    "            leftFrame = getFrame(leftQueue)\n",
    "            #get right frame\n",
    "            rightFrame = getFrame(rightQueue)\n",
    "\n",
    "            cv.imshow('left', leftFrame)\n",
    "            cv.imshow('right', rightFrame)\n",
    "\n",
    "            #check for keyboard input\n",
    "            key = cv.waitKey(1)\n",
    "            if key == ord('q'):\n",
    "                break # quit when q is pressed\n",
    "            elif key == ord('p'):\n",
    "                cv.imwrite(f'picture_left_{count}.png', leftFrame)\n",
    "                cv.imwrite(f'picture_right_{count}.png', rightFrame)\n",
    "                count += 1"
   ]
  },
  {
   "cell_type": "code",
   "execution_count": 3,
   "metadata": {},
   "outputs": [],
   "source": [
    "# find the aruco marker in the image\n",
    "def findArucoMarkers(img, markerSize =4, totalMarkers=250, draw=True):\n",
    "    gray = cv.cvtColor(img, cv.COLOR_BGR2GRAY)\n",
    "    key = getattr(aruco, f'DICT_{markerSize}X{markerSize}_{totalMarkers}')\n",
    "    arucoDict = aruco.Dictionary_get(key)\n",
    "    arucoParam = aruco.DetectorParameters_create()\n",
    "    # get the bounding box of the aruco markers\n",
    "    bboxs, ids, rejected = aruco.detectMarkers(gray, arucoDict, parameters = arucoParam)\n",
    "    return (bboxs)"
   ]
  },
  {
   "cell_type": "code",
   "execution_count": 7,
   "metadata": {},
   "outputs": [
    {
     "name": "stdout",
     "output_type": "stream",
     "text": [
      "353.0\n",
      "331.0\n",
      "Distance measured is 130.17255680039932 cm\n",
      "Actual distance is 136 cm\n",
      "Error is 5.82744319960068 cm\n"
     ]
    }
   ],
   "source": [
    "# load the camera images captured seperated by 7.5 cm\n",
    "img0 = cv.imread('./picture_left_0.png')\n",
    "img1 = cv.imread('./picture_right_0.png')\n",
    "\n",
    "#disparity equation d = basline(8cm) * focallength(1.636331765375964e+03)/(ul - ur)\n",
    "\n",
    "baseline = 7.5\n",
    "focal_length = 3.818394999478380e+02\n",
    "\n",
    "actual_measurement = 136\n",
    "\n",
    "#we use the right corners of aruco markers\n",
    "bbox1= findArucoMarkers(img0)\n",
    "bbox2 = findArucoMarkers(img1)\n",
    "\n",
    "print(bbox1[0][0][3][0])\n",
    "print(bbox2[0][0][3][0])\n",
    "\n",
    "d = (baseline * focal_length)/(bbox1[0][0][3][0]-bbox2[0][0][3][0])\n",
    "#d_y = (baseline * focal_length)/(bbox1[0][0][1][0]-bbox2[0][0][1][0])\n",
    "print(f'Distance measured is {d} cm')\n",
    "print(f'Actual distance is {actual_measurement} cm')\n",
    "print(f'Error is {abs(d-actual_measurement)} cm')\n",
    "# Distance measured is 208.28000000000003 cm\n",
    "# Distance from disparity equation is 208.008 cm\n",
    "# Error = 0.272 cm"
   ]
  },
  {
   "cell_type": "code",
   "execution_count": null,
   "metadata": {},
   "outputs": [],
   "source": []
  }
 ],
 "metadata": {
  "kernelspec": {
   "display_name": "Python 3.9.12 ('base')",
   "language": "python",
   "name": "python3"
  },
  "language_info": {
   "codemirror_mode": {
    "name": "ipython",
    "version": 3
   },
   "file_extension": ".py",
   "mimetype": "text/x-python",
   "name": "python",
   "nbconvert_exporter": "python",
   "pygments_lexer": "ipython3",
   "version": "3.9.12"
  },
  "orig_nbformat": 4,
  "vscode": {
   "interpreter": {
    "hash": "7281080ee6fc425e6f98dec69755e44604bddc2a93c752be7503405a79136eb1"
   }
  }
 },
 "nbformat": 4,
 "nbformat_minor": 2
}
